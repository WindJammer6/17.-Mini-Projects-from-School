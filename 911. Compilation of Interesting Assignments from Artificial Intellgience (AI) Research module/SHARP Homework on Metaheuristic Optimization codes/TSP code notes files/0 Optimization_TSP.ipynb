{
 "cells": [
  {
   "cell_type": "markdown",
   "metadata": {},
   "source": [
    "## Traveling Salesman Problem - Optimization"
   ]
  },
  {
   "cell_type": "markdown",
   "metadata": {},
   "source": [
    "### Import Packages"
   ]
  },
  {
   "cell_type": "code",
   "execution_count": 1,
   "metadata": {},
   "outputs": [],
   "source": [
    "from pyomo.environ import *\n",
    "import pyomo.environ as pyo\n",
    "import random\n",
    "import pandas as pd\n",
    "import matplotlib.pyplot as plt\n",
    "import math\n",
    "import numpy as np"
   ]
  },
  {
   "cell_type": "markdown",
   "metadata": {},
   "source": [
    "### Inputs"
   ]
  },
  {
   "cell_type": "code",
   "execution_count": 2,
   "metadata": {},
   "outputs": [],
   "source": [
    "#Generate Data Inputs\n",
    "\n",
    "# Select random seed\n",
    "random.seed(1)\n",
    "\n",
    "# Number of cities\n",
    "n=100\n",
    "\n",
    "#Coordinate Range\n",
    "rangelct=10000\n",
    "\n",
    "#Generate random locations\n",
    "coordlct_x = random.choices(range(0, rangelct), k=n)\n",
    "coordlct_y = random.choices(range(0, rangelct), k=n)\n",
    "\n",
    "#Compute distance between locations\n",
    "distancelct=np.empty([n, n])\n",
    "for i_index in range(n):\n",
    "    for j_index in range(n):\n",
    "        distancelct[i_index,j_index]=(math.sqrt(((coordlct_x[i_index]-coordlct_x[j_index])**2) +((coordlct_y[i_index]-coordlct_y[j_index])**2)))    \n",
    "\n",
    "distancelct[np.diag_indices_from(distancelct)] = 99999\n",
    "\n",
    "df = pd.DataFrame(distancelct)\n",
    "df.index += 1\n",
    "df.columns += 1\n",
    "cij_model=df.stack().to_dict()\n"
   ]
  },
  {
   "cell_type": "code",
   "execution_count": 3,
   "metadata": {},
   "outputs": [
    {
     "data": {
      "image/png": "[encoded data removed]",
      "text/plain": [
       "<Figure size 432x288 with 1 Axes>"
      ]
     },
     "metadata": {
      "needs_background": "light"
     },
     "output_type": "display_data"
    }
   ],
   "source": [
    "plt.plot(coordlct_x, coordlct_y, 'o', color='black');"
   ]
  },
  {
   "cell_type": "markdown",
   "metadata": {},
   "source": [
    "### Sets"
   ]
  },
  {
   "cell_type": "code",
   "execution_count": 4,
   "metadata": {},
   "outputs": [],
   "source": [
    "# Create Model\n",
    "model = AbstractModel()\n",
    "\n",
    "# Set of cities to visit\n",
    "model.N = RangeSet(n)\n",
    "model.U = RangeSet(2,n)"
   ]
  },
  {
   "cell_type": "markdown",
   "metadata": {},
   "source": [
    "### Parameters"
   ]
  },
  {
   "cell_type": "code",
   "execution_count": 5,
   "metadata": {},
   "outputs": [],
   "source": [
    "# c[i,j] - distance from i and j\n",
    "model.c = Param(model.N, model.N, initialize=cij_model)"
   ]
  },
  {
   "cell_type": "markdown",
   "metadata": {},
   "source": [
    "### Decision Variables"
   ]
  },
  {
   "cell_type": "code",
   "execution_count": 6,
   "metadata": {},
   "outputs": [],
   "source": [
    "# x[i,j] - 1 if city j is visited right after city i, 0 otherwise\n",
    "model.x = Var(model.N, model.N, within=Binary)\n",
    "\n",
    "# u[i] - auxiliary variable indicating tour ordering\n",
    "model.u = Var(model.N, within=Integers,bounds=(0,n))"
   ]
  },
  {
   "cell_type": "markdown",
   "metadata": {},
   "source": [
    "### Objective Function"
   ]
  },
  {
   "cell_type": "code",
   "execution_count": 7,
   "metadata": {},
   "outputs": [],
   "source": [
    "# Minimize total distance\n",
    "def cost_(model):\n",
    "    return sum(model.c[i,j]*model.x[i,j] for i in model.N for j in model.N)\n",
    "model.cost = Objective(rule=cost_)"
   ]
  },
  {
   "cell_type": "markdown",
   "metadata": {},
   "source": [
    "### Constraints"
   ]
  },
  {
   "cell_type": "code",
   "execution_count": 8,
   "metadata": {},
   "outputs": [],
   "source": [
    "#  There is only one departure from each city\n",
    "def arrive_(model, j):\n",
    "    return sum(model.x[i,j] for i in model.N if i!=j ) == 1\n",
    "model.arrive = Constraint(model.N, rule=arrive_)"
   ]
  },
  {
   "cell_type": "code",
   "execution_count": 9,
   "metadata": {},
   "outputs": [],
   "source": [
    "# There is only one arrival to each city\n",
    "def depart_(model, i):\n",
    "    return sum(model.x[i,j] for j in model.N if j!=i ) == 1\n",
    "model.depart = Constraint(model.N, rule=depart_)"
   ]
  },
  {
   "cell_type": "code",
   "execution_count": 10,
   "metadata": {},
   "outputs": [],
   "source": [
    "#  There is only a single tour covering all cities, and not two or more disjointed tours\n",
    "def singletour_(model,i,j):\n",
    "    if i!=j: \n",
    "        return model.u[i] - model.u[j] + model.x[i,j] * n <= n-1\n",
    "    else:\n",
    "        return model.u[i] - model.u[j] == 0 \n",
    "    \n",
    "model.singletour = Constraint(model.U,model.N,rule=singletour_)"
   ]
  },
  {
   "cell_type": "markdown",
   "metadata": {},
   "source": [
    "### Solve Model"
   ]
  },
  {
   "cell_type": "code",
   "execution_count": 12,
   "metadata": {
    "scrolled": true
   },
   "outputs": [
    {
     "name": "stdout",
     "output_type": "stream",
     "text": [
      "Set parameter Username\n",
      "Academic license - for non-commercial use only - expires 2025-09-25\n",
      "Read LP format model from file C:\\Users\\NUNORI~1\\AppData\\Local\\Temp\\tmpitn0jncc.pyomo.lp\n",
      "Reading time = 0.06 seconds\n",
      "x10101: 10101 rows, 10101 columns, 49204 nonzeros\n",
      "Set parameter TimeLimit to value 1800000\n",
      "Gurobi Optimizer version 9.5.0 build v9.5.0rc5 (win64)\n",
      "Thread count: 4 physical cores, 8 logical processors, using up to 8 threads\n",
      "Optimize a model with 10101 rows, 10101 columns and 49204 nonzeros\n",
      "Model fingerprint: 0x1d7ccbd7\n",
      "Variable types: 1 continuous, 10100 integer (10000 binary)\n",
      "Coefficient statistics:\n",
      "  Matrix range     [1e+00, 1e+02]\n",
      "  Objective range  [8e+01, 1e+05]\n",
      "  Bounds range     [1e+00, 1e+02]\n",
      "  RHS range        [1e+00, 1e+02]\n",
      "Presolve removed 100 rows and 102 columns\n",
      "Presolve time: 0.11s\n",
      "Presolved: 10001 rows, 9999 columns, 49104 nonzeros\n",
      "Variable types: 0 continuous, 9999 integer (9900 binary)\n",
      "Found heuristic solution: objective 542875.33104\n",
      "Found heuristic solution: objective 491329.45258\n",
      "\n",
      "Root relaxation: objective 6.499554e+04, 356 iterations, 0.03 seconds (0.01 work units)\n",
      "\n",
      "    Nodes    |    Current Node    |     Objective Bounds      |     Work\n",
      " Expl Unexpl |  Obj  Depth IntInf | Incumbent    BestBd   Gap | It/Node Time\n",
      "\n",
      "     0     0 64995.5392    0  197 491329.453 64995.5392  86.8%     -    0s\n",
      "     0     0 73506.0196    0  237 491329.453 73506.0196  85.0%     -    0s\n",
      "H    0     0                    423206.87689 73506.0196  82.6%     -    1s\n",
      "     0     0 73784.0278    0  228 423206.877 73784.0278  82.6%     -    1s\n",
      "     0     0 73784.9344    0  238 423206.877 73784.9344  82.6%     -    1s\n",
      "H    0     0                    115808.13461 73784.9344  36.3%     -    1s\n",
      "H    0     0                    109292.02482 73784.9344  32.5%     -    1s\n",
      "     0     0 75387.2834    0  219 109292.025 75387.2834  31.0%     -    1s\n",
      "     0     0 75425.5476    0  225 109292.025 75425.5476  31.0%     -    1s\n",
      "     0     0 75425.7336    0  240 109292.025 75425.7336  31.0%     -    1s\n",
      "     0     0 75452.2968    0  242 109292.025 75452.2968  31.0%     -    2s\n",
      "     0     0 75452.2968    0  235 109292.025 75452.2968  31.0%     -    2s\n",
      "     0     0 75490.7711    0  230 109292.025 75490.7711  30.9%     -    2s\n",
      "     0     0 75490.7711    0  231 109292.025 75490.7711  30.9%     -    2s\n",
      "     0     0 75510.2589    0  233 109292.025 75510.2589  30.9%     -    2s\n",
      "     0     0 75510.2589    0  234 109292.025 75510.2589  30.9%     -    2s\n",
      "     0     0 75510.2589    0  243 109292.025 75510.2589  30.9%     -    2s\n",
      "     0     0 75510.2589    0  233 109292.025 75510.2589  30.9%     -    3s\n",
      "     0     0 75510.2589    0  242 109292.025 75510.2589  30.9%     -    3s\n",
      "     0     0 75510.2589    0  191 109292.025 75510.2589  30.9%     -    3s\n",
      "     0     0 75510.2589    0  191 109292.025 75510.2589  30.9%     -    3s\n",
      "H    0     0                    107703.30115 75510.2589  29.9%     -    3s\n",
      "     0     0 75510.2589    0  186 107703.301 75510.2589  29.9%     -    3s\n",
      "     0     0 75510.2589    0  182 107703.301 75510.2589  29.9%     -    3s\n",
      "     0     0 75510.2589    0  223 107703.301 75510.2589  29.9%     -    4s\n",
      "     0     0 75510.2589    0  186 107703.301 75510.2589  29.9%     -    4s\n",
      "     0     2 76456.8609    0  186 107703.301 76456.8609  29.0%     -    4s\n",
      "     1     4 76456.8609    1  231 107703.301 76456.8609  29.0%   125    5s\n",
      "H  285   288                    103208.14087 76456.8609  25.9%  18.5    9s\n",
      "H  286   288                    99647.149301 76456.8609  23.3%  18.5    9s\n",
      "H  288   288                    89796.564243 76456.8609  14.9%  18.4    9s\n",
      "   390   414 77109.6665   91  134 89796.5642 76456.8609  14.9%  15.7   10s\n",
      "H  400   414                    88888.532978 76456.8609  14.0%  15.5   10s\n",
      "H  418   420                    88836.898495 76456.8609  13.9%  15.2   11s\n",
      "H  420   420                    88456.059239 76456.8609  13.6%  15.3   11s\n",
      "  1310  1333 77993.6593   66  173 88456.0592 76456.8609  13.6%  13.3   15s\n",
      "H 1422  1272                    84387.551933 76456.8609  9.40%  13.1   15s\n",
      "  1423  1273 79044.6276   71  186 84387.5519 76456.8609  9.40%  13.1   22s\n",
      "  1426  1275 80886.1032  178  347 84387.5519 76456.8609  9.40%  13.1   29s\n",
      "  1427  1276 77342.2629   36  336 84387.5519 76456.8609  9.40%  13.0   30s\n",
      "  1431  1278 77144.9393   17  405 84387.5519 76456.8609  9.40%  13.0   36s\n",
      "  1440  1284 77366.9151   87  349 84387.5519 76592.9518  9.24%  12.9   40s\n",
      "  1448  1290 78961.2904  120  317 84387.5519 76593.1502  9.24%  12.9   45s\n",
      "  1459  1302 76738.2462   16  262 84387.5519 76609.7416  9.22%   3.5   50s\n",
      "  1477  1314 76657.1311   19  426 84387.5519 76616.3298  9.21%   4.1   60s\n",
      "  1779  1525 76748.2791   50  367 84387.5519 76617.4984  9.21%   9.2   65s\n",
      "  2272  1880 76913.0554   94  183 84387.5519 76617.4984  9.21%  12.7   70s\n",
      "  2753  2202 77032.7613  139  305 84387.5519 76617.4984  9.21%  14.3   75s\n",
      "  3166  2485 77149.2468  184   89 84387.5519 76617.4984  9.21%  16.0   80s\n",
      "  3602  2755 77324.7177  239  197 84387.5519 76617.4984  9.21%  17.8   85s\n",
      "  4133  3089 77457.5975  287  261 84387.5519 76617.4984  9.21%  19.4   91s\n",
      "  4456  3286 79447.0116  320  225 84387.5519 76617.4984  9.21%  20.1   95s\n",
      "  4969  3552 77751.7421  379  295 84387.5519 76617.4984  9.21%  21.3  101s\n",
      "  5435  3779 77855.3973  428  202 84387.5519 76617.4984  9.21%  22.1  105s\n",
      "H 5482  3735                    84081.066353 76617.4984  8.88%  22.3  105s\n",
      "H 5518  3672                    83777.044800 76617.4984  8.55%  22.4  105s\n",
      "  5557  3669 77901.1725  446  130 83777.0448 76617.4984  8.55%  22.3  118s\n",
      "H 5561  3604                    83528.817109 76617.4984  8.27%  22.3  118s\n",
      "  5562  3671     cutoff  446      83528.8171 76617.4984  8.27%  22.3  121s\n",
      "H 5563  1911                    80074.132291 76617.4984  4.32%  22.3  121s\n",
      "  6011  2229 78079.5474  488  164 80074.1323 76627.6115  4.30%  22.1  126s\n",
      "  7035  3429 77766.7008   75  160 80074.1323 76671.0138  4.25%  20.5  130s\n",
      "  8945  4910 77844.0462  212  164 80074.1323 76675.6507  4.24%  18.6  137s\n",
      " 10011  5899     cutoff  101      80074.1323 76692.3709  4.22%  18.7  141s\n",
      " 10643  5902 79731.4090  251  345 80074.1323 76697.8525  4.22%  18.5  145s\n",
      " 10651  5907 77882.2377   53  252 80074.1323 76697.8525  4.22%  18.4  151s\n",
      " 10657  5911 79835.4155  226  275 80074.1323 76697.8525  4.22%  18.4  155s\n",
      " 10662  5918 76740.6722   24  236 80074.1323 76740.6722  4.16%  18.9  162s\n",
      " 10680  5930 76767.3691   27  365 80074.1323 76767.3691  4.13%  19.1  165s\n",
      " 11013  6066 77053.4851   53  393 80074.1323 76822.7377  4.06%  19.9  170s\n",
      "H11220  5814                    79785.414932 76822.7377  3.71%  20.4  173s\n",
      " 11345  5889 77192.7591   50  410 79785.4149 76847.9321  3.68%  20.5  175s\n",
      "*11511  5588             124    79444.808972 76956.8454  3.13%  20.7  176s\n",
      " 11965  5720 77497.3703   31  392 79444.8090 76997.7804  3.08%  20.6  180s\n",
      " 12693  5996 77688.0118   63  395 79444.8090 77056.5857  3.01%  21.4  185s\n",
      " 13425  6109 77394.5292   35  447 79444.8090 77097.2878  2.95%  22.8  190s\n",
      " 14077  6328 77344.3207   52  443 79444.8090 77141.1944  2.90%  24.1  195s\n",
      " 14307  6309 77282.1243   38  373 79444.8090 77167.9256  2.87%  24.4  202s\n",
      " 14315  6310 78818.2457   67  247 79444.8090 77167.9256  2.87%  24.4  206s\n",
      " 14324  6316 79090.2141   53  369 79444.8090 77167.9256  2.87%  24.4  210s\n",
      "H14333  6005                    79382.761083 77167.9256  2.79%  24.4  214s\n",
      " 14335  6006 79233.2808   45  318 79382.7611 77167.9256  2.79%  24.4  215s\n",
      " 14347  6014 77634.0993   40  349 79382.7611 77167.9256  2.79%  24.4  220s\n",
      " 14353  6018 79275.1925   35  389 79382.7611 77167.9256  2.79%  24.4  225s\n",
      " 14357  6021 78512.0878   51  342 79382.7611 77167.9256  2.79%  24.4  234s\n",
      " 14360  6024 78228.0195   46  216 79382.7611 77167.9256  2.79%  25.2  235s\n",
      " 14369  6030 79244.2636   51  419 79382.7611 77167.9256  2.79%  25.2  240s\n",
      " 14375  6034 78627.1077   54  373 79382.7611 77167.9256  2.79%  25.2  245s\n",
      " 14381  6038 79306.0846   59  349 79382.7611 77167.9256  2.79%  25.2  250s\n",
      " 14384  6045 77167.9256   48  296 79382.7611 77167.9256  2.79%  25.6  256s\n",
      " 14392  6051 77167.9256   49  474 79382.7611 77167.9256  2.79%  25.6  260s\n",
      " 14521  6153 77315.2795   64  227 79382.7611 77167.9256  2.79%  25.7  265s\n",
      " 14750  6286 77780.4922   94  117 79382.7611 77167.9256  2.79%  25.9  271s\n"
     ]
    },
    {
     "name": "stdout",
     "output_type": "stream",
     "text": [
      " 14885  6343     cutoff  112      79382.7611 77167.9256  2.79%  25.9  275s\n",
      " 15312  6500 77612.4756  164  149 79382.7611 77167.9256  2.79%  26.0  280s\n",
      " 15849  6619 78142.3182   70  225 79382.7611 77167.9256  2.79%  25.9  285s\n",
      "H16234  6350                    79381.474966 77167.9256  2.79%  25.8  287s\n",
      " 16680  6615 77378.4203  130   80 79381.4750 77167.9256  2.79%  25.6  290s\n",
      " 17542  7017 77288.3759  120  379 79381.4750 77167.9256  2.79%  25.1  295s\n",
      " 18610  7649 78159.5478  283  288 79381.4750 77167.9256  2.79%  24.5  303s\n",
      " 18918  8050 77283.5792  105  213 79381.4750 77167.9256  2.79%  24.3  305s\n",
      " 20372  8995 77413.9715  249  355 79381.4750 77167.9256  2.79%  23.3  311s\n",
      " 21915  9400 77189.5002   99  219 79381.4750 77167.9256  2.79%  22.7  316s\n",
      " 22559  9596 77393.5388  161  385 79381.4750 77167.9256  2.79%  23.1  321s\n",
      " 23190  9859     cutoff  215      79381.4750 77167.9256  2.79%  23.3  325s\n",
      " 24325 10374 77295.7865  174  216 79381.4750 77167.9256  2.79%  22.9  330s\n",
      " 25445 10595 77167.9256   58   60 79381.4750 77167.9256  2.79%  22.6  336s\n",
      " 26390 10996 77457.2795  165   54 79381.4750 77167.9256  2.79%  22.7  341s\n",
      " 27343 11689 77336.4075  135  346 79381.4750 77167.9256  2.79%  22.6  347s\n",
      " 28023 12108 77898.4653   64  166 79381.4750 77167.9256  2.79%  22.3  350s\n",
      " 29008 12010 78941.5702   92  351 79381.4750 77167.9256  2.79%  22.1  356s\n",
      " 29801 12855 78185.9356   82  253 79381.4750 77167.9256  2.79%  21.7  360s\n",
      " 30985 13354 78162.1903   64   43 79381.4750 77167.9256  2.79%  21.9  365s\n",
      " 31487 13188 77462.5533   71  186 79381.4750 77167.9256  2.79%  21.8  404s\n",
      " 31489 13189 77569.8246  152  217 79381.4750 77167.9256  2.79%  21.8  405s\n",
      " 31496 13194 77605.7025   73  424 79381.4750 77167.9256  2.79%  21.8  411s\n",
      " 31497 13195 77970.9207   82  290 79381.4750 77167.9256  2.79%  21.8  417s\n",
      " 31499 13196 78399.4587   96  400 79381.4750 77167.9256  2.79%  21.8  420s\n",
      " 31503 13199 77440.5285   72  384 79381.4750 77167.9256  2.79%  21.8  426s\n",
      " 31506 13201 78073.5548  315  377 79381.4750 77167.9256  2.79%  21.8  430s\n",
      " 31510 13203 78972.8428   89  445 79381.4750 77167.9256  2.79%  21.8  435s\n",
      " 31514 13206 77412.7614   70  407 79381.4750 77167.9256  2.79%  21.8  440s\n",
      " 31518 13209 77344.0939   72  435 79381.4750 77167.9256  2.79%  21.8  446s\n",
      " 31521 13211 78323.8477   64  402 79381.4750 77167.9256  2.79%  21.8  451s\n",
      " 31523 13212 77430.8161   86  401 79381.4750 77167.9256  2.79%  21.8  455s\n",
      " 31526 13217 77167.9256   59  415 79381.4750 77167.9256  2.79%  22.1  461s\n",
      " 31536 13223 77167.9256   61  401 79381.4750 77167.9256  2.79%  22.1  466s\n",
      " 31619 13226 77188.5376   80  401 79381.4750 77167.9256  2.79%  22.2  471s\n",
      " 31657 13233 77584.7622   65  438 79381.4750 77180.2429  2.77%  22.2  475s\n",
      " 32040 13250 78887.2735   67  280 79381.4750 77305.9720  2.61%  22.5  480s\n",
      " 32560 13342 78609.0372   78  401 79381.4750 77591.1356  2.26%  22.8  485s\n",
      " 33234 13393 79061.3080   77  398 79381.4750 77736.9701  2.07%  23.3  490s\n",
      " 34105 13434 78930.9626   80  347 79381.4750 77925.4677  1.83%  23.9  495s\n",
      " 34686 13449 78048.2918   72  441 79381.4750 78015.0293  1.72%  24.3  501s\n",
      " 35471 13658 78778.4762  119  109 79381.4750 78142.1078  1.56%  24.7  505s\n",
      " 36261 13898 78284.3228  131  392 79381.4750 78169.6675  1.53%  25.0  510s\n",
      " 36964 14345 78379.6142  219  167 79381.4750 78169.6675  1.53%  24.8  516s\n",
      " 37537 14550 78288.5098  118  134 79381.4750 78207.8103  1.48%  24.6  520s\n",
      " 38264 15239 78291.4760  145  355 79381.4750 78216.2456  1.47%  24.5  525s\n",
      " 39536 16156 78370.3011  242  327 79381.4750 78216.7449  1.47%  24.0  531s\n",
      " 40877 16377 78862.8694  105  392 79381.4750 78216.8496  1.47%  23.8  535s\n",
      " 42410 17407 78830.3197  192  219 79381.4750 78220.1345  1.46%  23.6  541s\n",
      " 44226 17451 78553.5073  130  426 79381.4750 78222.5097  1.46%  23.6  549s\n",
      " 44302 17679 78577.1560  149  363 79381.4750 78222.9637  1.46%  23.6  551s\n",
      " 45318 18085 78367.8289  128  127 79381.4750 78223.2571  1.46%  23.8  555s\n",
      " 46964 18509 79106.7609  128  336 79381.4750 78226.5610  1.45%  24.1  560s\n",
      " 48484 19460 78513.2627  227  364 79381.4750 78230.4173  1.45%  24.2  565s\n",
      " 50778 20217 78697.1234  115  306 79381.4750 78234.3563  1.45%  24.3  571s\n",
      "*51663 18749              86    79154.769297 78236.2522  1.16%  24.3  573s\n",
      " 52418 19031 78721.3726   95  286 79154.7693 78237.4117  1.16%  24.3  576s\n",
      " 53681 19373 78553.3825   77  323 79154.7693 78239.0784  1.16%  24.4  580s\n",
      "*53682 12244              78    78560.797898 78239.0784  0.41%  24.4  580s\n",
      " 55120 11816 78440.8683   85  228 78560.7979 78246.9877  0.40%  24.8  585s\n",
      "*55244 10019              81    78502.739659 78247.2501  0.33%  24.8  585s\n",
      "*55246  6261              82    78367.117704 78247.2501  0.15%  24.8  585s\n",
      " 56454  4778     cutoff  119      78367.1177 78280.8176  0.11%  25.0  590s\n",
      " 58051  2872     cutoff  233      78367.1177 78323.6718  0.06%  24.9  595s\n",
      "*58104  2048              79    78357.182610 78323.6718  0.04%  24.9  595s\n",
      "\n",
      "Cutting planes:\n",
      "  Learned: 28\n",
      "  Gomory: 68\n",
      "  Cover: 38\n",
      "  Implied bound: 5\n",
      "  Projected implied bound: 5\n",
      "  MIR: 41\n",
      "  Flow cover: 454\n",
      "  GUB cover: 1\n",
      "  Inf proof: 12\n",
      "  Zero half: 130\n",
      "  RLT: 5\n",
      "  Relax-and-lift: 8\n",
      "\n",
      "Explored 58970 nodes (1476440 simplex iterations) in 596.87 seconds (662.58 work units)\n",
      "Thread count was 8 (of 8 available processors)\n",
      "\n",
      "Solution count 10: 78357.2 78367.1 78502.7 ... 80074.1\n",
      "\n",
      "Optimal solution found (tolerance 1.00e-04)\n",
      "Best objective 7.835718261024e+04, best bound 7.834953423518e+04, gap 0.0098%\n"
     ]
    },
    {
     "data": {
      "text/plain": [
       "{'Problem': [{'Name': 'x10101', 'Lower bound': 78349.53423518119, 'Upper bound': 78357.18261023524, 'Number of objectives': 1, 'Number of constraints': 10101, 'Number of variables': 10101, 'Number of binary variables': 10000, 'Number of integer variables': 10100, 'Number of continuous variables': 1, 'Number of nonzeros': 49204, 'Sense': 'minimize'}], 'Solver': [{'Status': 'ok', 'Return code': '0', 'Message': 'Model was solved to optimality (subject to tolerances), and an optimal solution is available.', 'Termination condition': 'optimal', 'Termination message': 'Model was solved to optimality (subject to tolerances), and an optimal solution is available.', 'Wall time': '596.8765830993652', 'Error rc': 0, 'Time': 597.3838565349579}], 'Solution': [OrderedDict([('number of solutions', 0), ('number of solutions displayed', 0)])]}"
      ]
     },
     "execution_count": 12,
     "metadata": {},
     "output_type": "execute_result"
    }
   ],
   "source": [
    "instance = model.create_instance()\n",
    "opt = pyo.SolverFactory('gurobi')\n",
    "opt.solve(instance, options={'TimeLimit': 3600*500},tee=True)"
   ]
  },
  {
   "cell_type": "markdown",
   "metadata": {},
   "source": [
    "### Read output variables"
   ]
  },
  {
   "cell_type": "code",
   "execution_count": 13,
   "metadata": {},
   "outputs": [],
   "source": [
    "xij_dic = {i:int(np.round(pyo.value(j))) for (i,j) in instance.x.items()}\n",
    "xij = pd.DataFrame(xij_dic.values(), index = xij_dic.keys()).unstack()\n",
    "linkindex = np.where(xij == 1)"
   ]
  },
  {
   "cell_type": "code",
   "execution_count": 14,
   "metadata": {},
   "outputs": [],
   "source": [
    "ui_dic = {i:int(np.round(pyo.value(j))) for (i,j) in instance.u.items()}\n",
    "ui = pd.DataFrame(ui_dic.values(), index = ui_dic.keys()).unstack()\n",
    "sequence = np.where(ui == 1)\n",
    "uidf=pd.DataFrame(ui)\n",
    "uidf=uidf.sort_values(by=[0])\n",
    "\n",
    "pd.set_option('display.max_rows', uidf.shape[0]+1)\n"
   ]
  },
  {
   "cell_type": "markdown",
   "metadata": {},
   "source": [
    "### Plot results"
   ]
  },
  {
   "cell_type": "code",
   "execution_count": 15,
   "metadata": {},
   "outputs": [
    {
     "data": {
      "text/plain": [
       "100"
      ]
     },
     "execution_count": 15,
     "metadata": {},
     "output_type": "execute_result"
    },
    {
     "data": {
      "image/png": "[encoded data removed]",
      "text/plain": [
       "<Figure size 432x288 with 1 Axes>"
      ]
     },
     "metadata": {
      "needs_background": "light"
     },
     "output_type": "display_data"
    }
   ],
   "source": [
    "def connectpoints(x,y,p1,p2):\n",
    "    x1, x2 = x[p1], x[p2]\n",
    "    y1, y2 = y[p1], y[p2]\n",
    "    plt.plot([x1,x2],[y1,y2],'k-')\n",
    "\n",
    "for i_index in range(len(linkindex[0])): \n",
    "    connectpoints(coordlct_x,coordlct_y,linkindex[0][i_index],linkindex[1][i_index])\n",
    "    \n",
    "plt.plot(coordlct_x, coordlct_y, 'o', color='black');\n",
    "len(linkindex[0])"
   ]
  },
  {
   "cell_type": "code",
   "execution_count": null,
   "metadata": {},
   "outputs": [],
   "source": []
  }
 ],
 "metadata": {
  "kernelspec": {
   "display_name": "Python 3",
   "language": "python",
   "name": "python3"
  },
  "language_info": {
   "codemirror_mode": {
    "name": "ipython",
    "version": 3
   },
   "file_extension": ".py",
   "mimetype": "text/x-python",
   "name": "python",
   "nbconvert_exporter": "python",
   "pygments_lexer": "ipython3",
   "version": "3.8.5"
  }
 },
 "nbformat": 4,
 "nbformat_minor": 2
}
